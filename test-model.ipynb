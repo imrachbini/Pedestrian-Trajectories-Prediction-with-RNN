{
 "cells": [
  {
   "cell_type": "code",
   "execution_count": 19,
   "metadata": {},
   "outputs": [],
   "source": [
    "import pandas as pd\n",
    "import numpy as np\n",
    "import pickle\n",
    "from keras.models import Sequential\n",
    "from keras.layers import Dense\n",
    "from keras.layers import LSTM\n",
    "from sklearn.preprocessing import MinMaxScaler"
   ]
  },
  {
   "cell_type": "markdown",
   "metadata": {},
   "source": [
    "# Test for Submission"
   ]
  },
  {
   "cell_type": "code",
   "execution_count": null,
   "metadata": {
    "collapsed": true
   },
   "outputs": [],
   "source": [
    "num_feature = 5\n",
    "\n",
    "print('INFO: Begin preprocessing...')\n",
    "selected_col = ['hash', 'x_entry', 'y_entry', 'x_exit', 'y_exit']\n",
    "test = pd.read_csv('data_test.csv').drop('Unnamed: 0', axis=1)\n",
    "test = test[selected_col]\n",
    "\n",
    "all_hash = test.hash.unique()\n",
    "all_ped_data = []\n",
    "\n",
    "hash_count = all_hash.shape[0]\n",
    "counter = 1\n",
    "print('INFO: Separate data by Hash. Total hash: {}'.format(hash_count))\n",
    "\n",
    "for hsh in all_hash:\n",
    "    filtered_data = train.loc[train.hash == hsh].drop('hash', axis=1).values\n",
    "\n",
    "    tmp_arr = []\n",
    "    for row in filtered_data:\n",
    "        tmp_arr.append(list(row[:2]))\n",
    "        tmp_arr.append([row[2], row[3]])\n",
    "\n",
    "    tmp_arr = np.array(tmp_arr).T\n",
    "\n",
    "    if tmp_arr.shape[1] <= num_feature:\n",
    "        count_miss = num_feature - tmp_arr.shape[1] + 1\n",
    "        arrT = tmp_arr.T\n",
    "        first_elm = np.array([arrT[0]])\n",
    "        for x in range(count_miss):\n",
    "            arrT = np.concatenate((first_elm, arrT))\n",
    "\n",
    "    elif tmp_arr.shape[1] > num_feature + 1:\n",
    "        arrT = tmp_arr.T\n",
    "        arrT = arrT[-(num_feature+1):]\n",
    "        \n",
    "    tmp_arr = arrT[:-1].T\n",
    "    all_ped_data.append(tmp_arr)\n",
    "\n",
    "    print(\"INFO: Progress: {}\".format(counter), end=\"\\r\")\n",
    "    counter += 1\n",
    "    \n",
    "all_ped_data = np.array(all_ped_data)"
   ]
  },
  {
   "cell_type": "code",
   "execution_count": null,
   "metadata": {
    "collapsed": true
   },
   "outputs": [],
   "source": [
    "test_ready_data = (all_hash, all_ped_data)\n",
    "pickle.dump(test_ready_data, open(\"misc/test_ready_data.pickle\", \"wb\"))"
   ]
  },
  {
   "cell_type": "code",
   "execution_count": 3,
   "metadata": {},
   "outputs": [],
   "source": [
    "# Load Test Ready data\n",
    "test_hash, test_ped_data = pickle.load(open(\"misc/test_ready_data.pickle\", \"rb\"))\n",
    "# test_ped_data"
   ]
  },
  {
   "cell_type": "code",
   "execution_count": 5,
   "metadata": {},
   "outputs": [],
   "source": [
    "# Load Model\n",
    "num_feature = 5\n",
    "rnn_size = 512\n",
    "\n",
    "model = Sequential()\n",
    "model.add(\n",
    "    LSTM(rnn_size, \n",
    "         input_shape=(2, num_feature)\n",
    "    )\n",
    ")\n",
    "model.add(Dense(2))\n",
    "model.load_weights('misc/keras_lstm.h5')"
   ]
  },
  {
   "cell_type": "code",
   "execution_count": 11,
   "metadata": {},
   "outputs": [
    {
     "data": {
      "text/plain": [
       "array([[ 532227.94, -532199.75],\n",
       "       [ 532227.94, -532199.75],\n",
       "       [ 532227.94, -532199.75],\n",
       "       ...,\n",
       "       [ 532227.8 , -532199.75],\n",
       "       [ 532227.8 , -532199.75],\n",
       "       [ 532227.8 , -532199.75]], dtype=float32)"
      ]
     },
     "execution_count": 11,
     "metadata": {},
     "output_type": "execute_result"
    }
   ],
   "source": [
    "model.predict(test_ped_data)"
   ]
  },
  {
   "cell_type": "markdown",
   "metadata": {},
   "source": [
    "# Test from Training"
   ]
  },
  {
   "cell_type": "code",
   "execution_count": 13,
   "metadata": {},
   "outputs": [],
   "source": [
    "trained_ready_data = pickle.load(open('misc/trained_ready_data.pickle', 'rb'))\n",
    "training_X, training_Y, dev_X, dev_Y, testing_X, testing_Y = trained_ready_data\n",
    "\n",
    "# scaler = pickle.load(open('misc/scaler.pickle', 'rb'))"
   ]
  },
  {
   "cell_type": "code",
   "execution_count": 14,
   "metadata": {},
   "outputs": [
    {
     "data": {
      "text/plain": [
       "2"
      ]
     },
     "execution_count": 14,
     "metadata": {},
     "output_type": "execute_result"
    }
   ],
   "source": [
    "np.array(training_X).shape[1]"
   ]
  },
  {
   "cell_type": "code",
   "execution_count": 15,
   "metadata": {
    "collapsed": true
   },
   "outputs": [],
   "source": [
    "# Load model\n",
    "num_feature = 5\n",
    "rnn_size = 512\n",
    "\n",
    "model = Sequential()\n",
    "model.add(\n",
    "    LSTM(rnn_size, \n",
    "         input_shape=(2, num_feature)\n",
    "    )\n",
    ")\n",
    "model.add(Dense(2))\n",
    "model.load_weights('misc/keras_lstm.h5')"
   ]
  },
  {
   "cell_type": "code",
   "execution_count": 16,
   "metadata": {
    "collapsed": true
   },
   "outputs": [],
   "source": [
    "testing_X = np.array(testing_X)\n",
    "testing_Y = np.array(testing_Y)"
   ]
  },
  {
   "cell_type": "code",
   "execution_count": 17,
   "metadata": {},
   "outputs": [
    {
     "data": {
      "text/plain": [
       "array([[ 532227.94, -532199.75],\n",
       "       [ 532227.94, -532199.75],\n",
       "       [ 532227.94, -532199.75],\n",
       "       [ 532227.94, -532199.75],\n",
       "       [ 532227.94, -532199.75],\n",
       "       [ 532227.94, -532199.75],\n",
       "       [ 532227.94, -532199.75],\n",
       "       [ 532227.94, -532199.75],\n",
       "       [ 532227.8 , -532199.75],\n",
       "       [ 532227.8 , -532199.75]], dtype=float32)"
      ]
     },
     "execution_count": 17,
     "metadata": {},
     "output_type": "execute_result"
    }
   ],
   "source": [
    "model.predict(testing_X[0:10])"
   ]
  },
  {
   "cell_type": "code",
   "execution_count": 18,
   "metadata": {},
   "outputs": [
    {
     "data": {
      "text/plain": [
       "array([[  3758992.03731095, -19296150.48371874],\n",
       "       [  3754451.31528149, -19367729.23896086],\n",
       "       [  3758905.20810813, -19295817.17516739],\n",
       "       [  3746390.67095315, -19355258.48919743],\n",
       "       [  3744597.31395647, -19320932.7785616 ],\n",
       "       [  3753822.3601585 , -19191282.67027628],\n",
       "       [  3758314.10161201, -19235202.80750339],\n",
       "       [  3761192.82364393, -19351106.96029497],\n",
       "       [  3761210.63476245, -19351257.6670844 ],\n",
       "       [  3766718.7231669 , -19347966.11021282]])"
      ]
     },
     "execution_count": 18,
     "metadata": {},
     "output_type": "execute_result"
    }
   ],
   "source": [
    "testing_Y[0:10]"
   ]
  },
  {
   "cell_type": "code",
   "execution_count": null,
   "metadata": {
    "collapsed": true
   },
   "outputs": [],
   "source": [
    "scaler.inverse_transform(testing_Y)"
   ]
  },
  {
   "cell_type": "markdown",
   "metadata": {},
   "source": [
    "## Explore"
   ]
  },
  {
   "cell_type": "code",
   "execution_count": null,
   "metadata": {
    "collapsed": true
   },
   "outputs": [],
   "source": [
    "import numpy as np"
   ]
  },
  {
   "cell_type": "code",
   "execution_count": null,
   "metadata": {
    "collapsed": true
   },
   "outputs": [],
   "source": [
    "arr = np.array([[1,2,3],[6,7,8]])\n",
    "arrT = arr.T\n",
    "first_elm = arrT[0]\n",
    "for x in range(3):\n",
    "    arrT = np.concatenate((np.array([[1,6]]), arrT))\n",
    "\n",
    "arr = arrT.T"
   ]
  },
  {
   "cell_type": "code",
   "execution_count": null,
   "metadata": {
    "collapsed": true
   },
   "outputs": [],
   "source": [
    "np.concatenate(([[1,6]], arr.T))"
   ]
  },
  {
   "cell_type": "code",
   "execution_count": null,
   "metadata": {
    "collapsed": true
   },
   "outputs": [],
   "source": [
    "arr.T"
   ]
  },
  {
   "cell_type": "code",
   "execution_count": null,
   "metadata": {
    "collapsed": true
   },
   "outputs": [],
   "source": [
    "dct = dict(a=1,b=2,c=3)\n",
    "print(dct)\n",
    "\n",
    "for k, v in dct.items():\n",
    "    dct[k] = 5\n",
    "\n",
    "print(dct)"
   ]
  },
  {
   "cell_type": "code",
   "execution_count": 64,
   "metadata": {
    "collapsed": true
   },
   "outputs": [],
   "source": [
    "ax = np.array([\n",
    "    [[1,2,3,4,5],\n",
    "     [6,7,8,9,10]],\n",
    "    [[11,12,13,14,15],\n",
    "     [16,17,18,19,20]],\n",
    "    [[21,22,23,24,25],\n",
    "     [26,27,28,29,30]]\n",
    "])\n",
    "ay = np.array([\n",
    "    [1,2,1],\n",
    "    [2,3,5],\n",
    "    [3,4,7]\n",
    "])"
   ]
  },
  {
   "cell_type": "code",
   "execution_count": 49,
   "metadata": {},
   "outputs": [
    {
     "data": {
      "text/plain": [
       "array([[ 1,  2],\n",
       "       [ 3,  4],\n",
       "       [ 5,  6],\n",
       "       [ 7,  8],\n",
       "       [ 9, 10],\n",
       "       [11, 12],\n",
       "       [13, 14],\n",
       "       [15, 16],\n",
       "       [17, 18],\n",
       "       [19, 20],\n",
       "       [21, 22],\n",
       "       [23, 24],\n",
       "       [25, 26],\n",
       "       [27, 28],\n",
       "       [29, 30]])"
      ]
     },
     "execution_count": 49,
     "metadata": {},
     "output_type": "execute_result"
    }
   ],
   "source": [
    "ax.reshape(15,2,)"
   ]
  },
  {
   "cell_type": "code",
   "execution_count": 60,
   "metadata": {},
   "outputs": [
    {
     "name": "stderr",
     "output_type": "stream",
     "text": [
      "/usr/local/lib/python3.6/site-packages/sklearn/utils/validation.py:595: DataConversionWarning: Data with input dtype int64 was converted to float64 by MinMaxScaler.\n",
      "  warnings.warn(msg, DataConversionWarning)\n"
     ]
    }
   ],
   "source": [
    "scaler = MinMaxScaler(feature_range=(-1,1))\n",
    "scaler = scaler.fit(np.array(range(31)).reshape(-1,1))"
   ]
  },
  {
   "cell_type": "code",
   "execution_count": 65,
   "metadata": {},
   "outputs": [
    {
     "data": {
      "text/plain": [
       "array([[-0.93333333, -0.86666667, -0.93333333],\n",
       "       [-0.86666667, -0.8       , -0.66666667],\n",
       "       [-0.8       , -0.73333333, -0.53333333]])"
      ]
     },
     "execution_count": 65,
     "metadata": {},
     "output_type": "execute_result"
    }
   ],
   "source": [
    "ay_scaled = scaler.transform(ay)\n",
    "ay_scaled"
   ]
  },
  {
   "cell_type": "code",
   "execution_count": 66,
   "metadata": {},
   "outputs": [
    {
     "data": {
      "text/plain": [
       "array([[1., 2., 1.],\n",
       "       [2., 3., 5.],\n",
       "       [3., 4., 7.]])"
      ]
     },
     "execution_count": 66,
     "metadata": {},
     "output_type": "execute_result"
    }
   ],
   "source": [
    "scaler.inverse_transform(ay_scaled)"
   ]
  },
  {
   "cell_type": "code",
   "execution_count": 67,
   "metadata": {},
   "outputs": [
    {
     "ename": "ValueError",
     "evalue": "Found array with dim 3. Estimator expected <= 2.",
     "output_type": "error",
     "traceback": [
      "\u001b[0;31m---------------------------------------------------------------------------\u001b[0m",
      "\u001b[0;31mValueError\u001b[0m                                Traceback (most recent call last)",
      "\u001b[0;32m<ipython-input-67-94b7f6d099ce>\u001b[0m in \u001b[0;36m<module>\u001b[0;34m()\u001b[0m\n\u001b[0;32m----> 1\u001b[0;31m \u001b[0mscaler\u001b[0m\u001b[0;34m.\u001b[0m\u001b[0mtransform\u001b[0m\u001b[0;34m(\u001b[0m\u001b[0max\u001b[0m\u001b[0;34m)\u001b[0m\u001b[0;34m\u001b[0m\u001b[0m\n\u001b[0m",
      "\u001b[0;32m/usr/local/lib/python3.6/site-packages/sklearn/preprocessing/data.py\u001b[0m in \u001b[0;36mtransform\u001b[0;34m(self, X)\u001b[0m\n\u001b[1;32m    394\u001b[0m \u001b[0;34m\u001b[0m\u001b[0m\n\u001b[1;32m    395\u001b[0m         X = check_array(X, copy=self.copy, dtype=FLOAT_DTYPES,\n\u001b[0;32m--> 396\u001b[0;31m                         force_all_finite=\"allow-nan\")\n\u001b[0m\u001b[1;32m    397\u001b[0m \u001b[0;34m\u001b[0m\u001b[0m\n\u001b[1;32m    398\u001b[0m         \u001b[0mX\u001b[0m \u001b[0;34m*=\u001b[0m \u001b[0mself\u001b[0m\u001b[0;34m.\u001b[0m\u001b[0mscale_\u001b[0m\u001b[0;34m\u001b[0m\u001b[0m\n",
      "\u001b[0;32m/usr/local/lib/python3.6/site-packages/sklearn/utils/validation.py\u001b[0m in \u001b[0;36mcheck_array\u001b[0;34m(array, accept_sparse, accept_large_sparse, dtype, order, copy, force_all_finite, ensure_2d, allow_nd, ensure_min_samples, ensure_min_features, warn_on_dtype, estimator)\u001b[0m\n\u001b[1;32m    568\u001b[0m         \u001b[0;32mif\u001b[0m \u001b[0;32mnot\u001b[0m \u001b[0mallow_nd\u001b[0m \u001b[0;32mand\u001b[0m \u001b[0marray\u001b[0m\u001b[0;34m.\u001b[0m\u001b[0mndim\u001b[0m \u001b[0;34m>=\u001b[0m \u001b[0;36m3\u001b[0m\u001b[0;34m:\u001b[0m\u001b[0;34m\u001b[0m\u001b[0m\n\u001b[1;32m    569\u001b[0m             raise ValueError(\"Found array with dim %d. %s expected <= 2.\"\n\u001b[0;32m--> 570\u001b[0;31m                              % (array.ndim, estimator_name))\n\u001b[0m\u001b[1;32m    571\u001b[0m         \u001b[0;32mif\u001b[0m \u001b[0mforce_all_finite\u001b[0m\u001b[0;34m:\u001b[0m\u001b[0;34m\u001b[0m\u001b[0m\n\u001b[1;32m    572\u001b[0m             _assert_all_finite(array,\n",
      "\u001b[0;31mValueError\u001b[0m: Found array with dim 3. Estimator expected <= 2."
     ]
    }
   ],
   "source": [
    "scaler.transform(ax)"
   ]
  },
  {
   "cell_type": "code",
   "execution_count": null,
   "metadata": {
    "collapsed": true
   },
   "outputs": [],
   "source": []
  }
 ],
 "metadata": {
  "kernelspec": {
   "display_name": "Python 3",
   "language": "python",
   "name": "python3"
  },
  "language_info": {
   "codemirror_mode": {
    "name": "ipython",
    "version": 3
   },
   "file_extension": ".py",
   "mimetype": "text/x-python",
   "name": "python",
   "nbconvert_exporter": "python",
   "pygments_lexer": "ipython3",
   "version": "3.6.5"
  }
 },
 "nbformat": 4,
 "nbformat_minor": 2
}
